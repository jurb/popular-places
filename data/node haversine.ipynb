{
  "cells": [
    {
      "cell_type": "code",
      "source": [
        "const filteredData = [\n",
        "  {\n",
        "    \"name\": \"Ketelhuis\",\n",
        "    \"cat\": \"Bioscoop\",\n",
        "    \"lon\": 4.8735335,\n",
        "    \"lat\": 52.3863515,\n",
        "    \"zaak_id\": 8789,\n",
        "    \"camel\": \"bioscoop\"\n",
        "  },\n",
        "  {\n",
        "    \"name\": \"Filmhuis Cavia\",\n",
        "    \"cat\": \"Bioscoop\",\n",
        "    \"lon\": 4.8701955,\n",
        "    \"lat\": 52.3820425,\n",
        "    \"zaak_id\": 8940,\n",
        "    \"camel\": \"bioscoop\"\n",
        "  },\n",
        "  {\n",
        "    \"name\": \"Pathé Arena\",\n",
        "    \"cat\": \"Bioscoop\",\n",
        "    \"lon\": 4.9452925,\n",
        "    \"lat\": 52.3121045,\n",
        "    \"zaak_id\": 24692,\n",
        "    \"camel\": \"bioscoop\"\n",
        "  },\n",
        "  {\n",
        "    \"name\": \"Kriterion\",\n",
        "    \"cat\": \"Bioscoop\",\n",
        "    \"lon\": 4.910533,\n",
        "    \"lat\": 52.3625705,\n",
        "    \"zaak_id\": 16362,\n",
        "    \"camel\": \"bioscoop\"\n",
        "  },\n",
        "  {\n",
        "    \"name\": \"Pathe Filmtheater\",\n",
        "    \"cat\": \"Bioscoop\",\n",
        "    \"lon\": 4.893927,\n",
        "    \"lat\": 52.3664485,\n",
        "    \"zaak_id\": 15680,\n",
        "    \"camel\": \"bioscoop\"\n",
        "  },\n",
        "  {\n",
        "    \"name\": \"Pathé Tuschinski\",\n",
        "    \"cat\": \"Bioscoop\",\n",
        "    \"lon\": 4.894589,\n",
        "    \"lat\": 52.3662535,\n",
        "    \"zaak_id\": 15696,\n",
        "    \"camel\": \"bioscoop\"\n",
        "  },\n",
        "  {\n",
        "    \"name\": \"City\",\n",
        "    \"cat\": \"Bioscoop\",\n",
        "    \"lon\": 4.8839695,\n",
        "    \"lat\": 52.363456,\n",
        "    \"zaak_id\": 18677,\n",
        "    \"camel\": \"bioscoop\"\n",
        "  },\n",
        "  {\n",
        "    \"name\": \"De Uitkijk\",\n",
        "    \"cat\": \"Bioscoop\",\n",
        "    \"lon\": 4.884303,\n",
        "    \"lat\": 52.364699,\n",
        "    \"zaak_id\": 18747,\n",
        "    \"camel\": \"bioscoop\"\n",
        "  },\n",
        "  {\n",
        "    \"name\": \"Cinecenter\",\n",
        "    \"cat\": \"Bioscoop\",\n",
        "    \"lon\": 4.881784,\n",
        "    \"lat\": 52.3650215,\n",
        "    \"zaak_id\": 19435,\n",
        "    \"camel\": \"bioscoop\"\n",
        "  },\n",
        "  {\n",
        "    \"name\": \"The Movies\",\n",
        "    \"cat\": \"Bioscoop\",\n",
        "    \"lon\": 4.8845185,\n",
        "    \"lat\": 52.3838895,\n",
        "    \"zaak_id\": 20271,\n",
        "    \"camel\": \"bioscoop\"\n",
        "  },\n",
        "  {\n",
        "    \"name\": \"Studio K\",\n",
        "    \"cat\": \"Bioscoop\",\n",
        "    \"lon\": 4.936067,\n",
        "    \"lat\": 52.3651475,\n",
        "    \"zaak_id\": 20096055,\n",
        "    \"camel\": \"bioscoop\"\n",
        "  },\n",
        "  {\n",
        "    \"name\": \"Filmtheater Rialto\",\n",
        "    \"cat\": \"Bioscoop\",\n",
        "    \"lon\": 4.8939685,\n",
        "    \"lat\": 52.352912,\n",
        "    \"zaak_id\": 3301,\n",
        "    \"camel\": \"bioscoop\"\n",
        "  },\n",
        "  {\n",
        "    \"name\": \"De Filmhallen\",\n",
        "    \"cat\": \"Bioscoop\",\n",
        "    \"lon\": 4.868313,\n",
        "    \"lat\": 52.3672055,\n",
        "    \"zaak_id\": 20136128,\n",
        "    \"camel\": \"bioscoop\"\n",
        "  }\n",
        "]\n"
      ],
      "outputs": [],
      "execution_count": 1,
      "metadata": {
        "collapsed": false,
        "outputHidden": false,
        "inputHidden": false
      }
    },
    {
      "cell_type": "code",
      "source": [
        "filteredData.forEach(el => console.log([el.lat, el.lon]))"
      ],
      "outputs": [
        {
          "output_type": "stream",
          "name": "stdout",
          "text": [
            "[ 52.3863515, 4.8735335 ]\n",
            "[ 52.3820425, 4.8701955 ]\n",
            "[ 52.3121045, 4.9452925 ]\n",
            "[ 52.3625705, 4.910533 ]\n",
            "[ 52.3664485, 4.893927 ]\n",
            "[ 52.3662535, 4.894589 ]\n",
            "[ 52.363456, 4.8839695 ]\n",
            "[ 52.364699, 4.884303 ]\n",
            "[ 52.3650215, 4.881784 ]\n",
            "[ 52.3838895, 4.8845185 ]\n",
            "[ 52.3651475, 4.936067 ]\n",
            "[ 52.352912, 4.8939685 ]\n",
            "[ 52.3672055, 4.868313 ]\n"
          ]
        }
      ],
      "execution_count": 3,
      "metadata": {
        "collapsed": false,
        "outputHidden": false,
        "inputHidden": false
      }
    },
    {
      "cell_type": "code",
      "source": [],
      "outputs": [],
      "execution_count": null,
      "metadata": {
        "collapsed": false,
        "outputHidden": false,
        "inputHidden": false
      }
    }
  ],
  "metadata": {
    "kernel_info": {
      "name": "node_nteract"
    },
    "language_info": {
      "name": "javascript",
      "version": "8.9.3",
      "mimetype": "application/javascript",
      "file_extension": ".js"
    },
    "kernelspec": {
      "name": "node_nteract",
      "language": "javascript",
      "display_name": "Node.js (nteract)"
    },
    "nteract": {
      "version": "0.11.6"
    }
  },
  "nbformat": 4,
  "nbformat_minor": 4
}